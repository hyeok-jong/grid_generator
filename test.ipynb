{
 "cells": [
  {
   "cell_type": "code",
   "execution_count": 5,
   "metadata": {},
   "outputs": [
    {
     "data": {
      "text/plain": [
       "{'batch_size': [512, 1024],\n",
       " 'optimizer': ['sgd', 'adam'],\n",
       " 'learning_rate': [0.001, 0.0001]}"
      ]
     },
     "execution_count": 5,
     "metadata": {},
     "output_type": "execute_result"
    }
   ],
   "source": [
    "import json\n",
    "f = open('test.json')\n",
    "data = json.load(f)\n",
    "data"
   ]
  },
  {
   "cell_type": "code",
   "execution_count": null,
   "metadata": {},
   "outputs": [],
   "source": []
  },
  {
   "cell_type": "code",
   "execution_count": null,
   "metadata": {},
   "outputs": [],
   "source": []
  },
  {
   "cell_type": "code",
   "execution_count": 1,
   "metadata": {},
   "outputs": [],
   "source": [
    "args_grids = {\n",
    "    'batch_size' : [2**i for i in range(7, 10, 1)],\n",
    "    'optimizer' : ['sgd', 'adam'],\n",
    "    'learning_rate' : [round(0.1**i, 5) for i in range(1, 4, 1)],\n",
    "}"
   ]
  },
  {
   "cell_type": "markdown",
   "metadata": {},
   "source": [
    "## Assume that u have 10 gpus and run each .py with each gpu"
   ]
  },
  {
   "cell_type": "code",
   "execution_count": 42,
   "metadata": {},
   "outputs": [],
   "source": [
    "def sanity_check(args_grids : dict):\n",
    "    results = {key : type(val) == list for key, val in args_grids.items()}\n",
    "    assert False not in list(results.values())\n",
    "    return results\n",
    "\n",
    "def set_baselines(python_name):\n",
    "    python_name = python_name.replace('.py', '') + '.py'\n",
    "    baseline = rf\"\"\"\n",
    "\n",
    "current_time=$(date +%T)\n",
    "elapsed_time=$((SECONDS - start_time))\n",
    "hours=$((elapsed_time / 3600))\n",
    "minutes=$(( (elapsed_time % 3600) / 60))\n",
    "seconds=$((elapsed_time % 60))\n",
    "current_iter=$((current_iter + 1))\n",
    "\n",
    "echo \"Current Time: $current_time\"\n",
    "echo \"Elapsed Time: $hours hour(s) $minutes minute(s) $seconds second(s)\"\n",
    "echo \"Progress: $current_n / $total_n\"\n",
    "\n",
    "CUDA_VISIBLE_DEVICES=\"0\" \\\n",
    "python {python_name} \\\n",
    "\"\"\"\n",
    "    return baseline\n",
    "\n",
    "def make_one_arg(arg):\n",
    "    text = rf'--{arg} \"${{{arg}_i}}\" '\n",
    "    text += f\"\\ \".replace(' ', '')\n",
    "    text += '\\n'\n",
    "    return text \n",
    "\n",
    "def make_arg_lines(args_grids):\n",
    "    text = ''\n",
    "    for i, key in enumerate(args_grids.keys()):\n",
    "            text += make_one_arg(key)\n",
    "    return text[:-3]\n",
    "\n",
    "def make_for_line(arg):\n",
    "    text = f'for {arg + \"_i\"} in \"${{{arg}_s[@]}}\"; do'\n",
    "    text += '\\n'\n",
    "    return text\n",
    "    \n",
    "\n",
    "def add_space(lines : str, times = 1):\n",
    "    space = '    '*times\n",
    "    lines = lines.split('\\n')\n",
    "    lines = '\\n'.join([space + l for l in lines])\n",
    "    return lines\n",
    "\n",
    "def add_vars(args_grids):\n",
    "    lines = ''\n",
    "\n",
    "    for key, val in args_grids.items():\n",
    "        if type(val[0]) == str:\n",
    "            val = \"'\" + \"' '\".join(val) + \"'\"\n",
    "        else:\n",
    "            val = map(str, val)\n",
    "            val = \" \".join(val)\n",
    "        \n",
    "        lines += f'{key}_s=({val})\\n'\n",
    "    lines += '\\n'\n",
    "    \n",
    "    ns = [len(i) for i in args_grids.values()]\n",
    "    total_n = 1\n",
    "    for n in ns: total_n *= n\n",
    "    \n",
    "    lines += 'start_time=$SECONDS\\n'\n",
    "    lines += f'total_n={total_n}\\n'\n",
    "    lines += 'current_n=0\\n\\n'\n",
    "    \n",
    "    \n",
    "    return lines\n",
    "\n",
    "\n",
    "\n",
    "\n",
    "def make_sh(args_grids : dict, python_name : str = 'train', bash_name : str = 'grid_searcher.sh'):\n",
    "    sanity_check(args_grids)\n",
    "    bash_command = ''\n",
    "    bash_name = bash_name.replace('.bash', '.sh').replace('.sh', '') + '.sh'\n",
    "    bash_command += set_baselines(python_name)\n",
    "    bash_command += make_arg_lines(args_grids)\n",
    "    \n",
    "    for arg in args_grids.keys():\n",
    "        bash_command = add_space(bash_command) \n",
    "        bash_command = make_for_line(arg) + bash_command + '\\ndone'\n",
    "        \n",
    "    bash_command = add_vars(args_grids) + bash_command\n",
    "    w = open(bash_name, 'w')\n",
    "    w.write(bash_command)\n",
    "    w.close\n",
    "    \n",
    "make_sh(args_grids, python_name = 'train', bash_name = 'text.bash')\n"
   ]
  },
  {
   "cell_type": "code",
   "execution_count": null,
   "metadata": {},
   "outputs": [],
   "source": []
  }
 ],
 "metadata": {
  "kernelspec": {
   "display_name": "local",
   "language": "python",
   "name": "python3"
  },
  "language_info": {
   "codemirror_mode": {
    "name": "ipython",
    "version": 3
   },
   "file_extension": ".py",
   "mimetype": "text/x-python",
   "name": "python",
   "nbconvert_exporter": "python",
   "pygments_lexer": "ipython3",
   "version": "3.9.18"
  }
 },
 "nbformat": 4,
 "nbformat_minor": 2
}
